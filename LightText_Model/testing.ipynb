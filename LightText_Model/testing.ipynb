{
 "cells": [
  {
   "cell_type": "code",
   "execution_count": null,
   "metadata": {},
   "outputs": [],
   "source": [
    "import numpy as np\n",
    "import matplotlib.pyplot as plt\n",
    "import pandas as pd\n",
    "\n",
    "import tensorflow as tf\n",
    "Dense = tf.keras.layers.Dense\n",
    "Input = tf.keras.layers.Input\n",
    "Sequential = tf.keras.Sequential\n",
    "SparseCategoricalCrossEntropy = tf.keras.losses.SparseCategoricalCrossEntropy\n",
    "regularizers = tf.keras.regularizers\n",
    "optimizers = tf.keras.optimizers\n",
    "sigmoid = tf.keras.activations.sigmoid\n",
    "relu = tf.keras.activations.relu\n",
    "linear = tf.keras.activations.linear\n",
    "\n",
    "np.set_printoptions(precision=2)"
   ]
  },
  {
   "cell_type": "code",
   "execution_count": null,
   "metadata": {},
   "outputs": [],
   "source": []
  }
 ],
 "metadata": {
  "kernelspec": {
   "display_name": "venv",
   "language": "python",
   "name": "python3"
  },
  "language_info": {
   "name": "python",
   "version": "3.12.4"
  }
 },
 "nbformat": 4,
 "nbformat_minor": 2
}
